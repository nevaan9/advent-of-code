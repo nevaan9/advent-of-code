{
 "cells": [
  {
   "cell_type": "markdown",
   "id": "f8496130-92b9-4b4a-80bc-8ddd7d484ad8",
   "metadata": {},
   "source": [
    "# Day 1"
   ]
  },
  {
   "cell_type": "code",
   "execution_count": 3,
   "id": "b7a2c08c-802b-48db-a003-875d19ad2a07",
   "metadata": {
    "tags": []
   },
   "outputs": [],
   "source": [
    "import pandas as pd\n",
    "import re\n",
    "import numpy as np"
   ]
  },
  {
   "cell_type": "code",
   "execution_count": 4,
   "id": "ce597440-0ec4-48fa-a51b-17162bf10961",
   "metadata": {
    "tags": []
   },
   "outputs": [],
   "source": [
    "# read text file into pandas DataFrame\n",
    "df = pd.read_csv(\"./data/day-1-1.txt\", header=None)\n",
    " \n",
    "# display DataFrame\n",
    "# print(df)"
   ]
  },
  {
   "cell_type": "code",
   "execution_count": 5,
   "id": "c0a748dc-f44a-4197-97a7-27645cf265eb",
   "metadata": {
    "tags": []
   },
   "outputs": [],
   "source": [
    "def contains_substring(larger_string, smaller_strings):\n",
    "    for smaller_str in smaller_strings:\n",
    "        if smaller_str in larger_string:\n",
    "            return smaller_str\n",
    "    return False"
   ]
  },
  {
   "cell_type": "code",
   "execution_count": 6,
   "id": "0342f7ef-95b2-4b26-a326-e9e333567435",
   "metadata": {
    "tags": []
   },
   "outputs": [],
   "source": [
    "number_map = {\n",
    "    \"one\": 1,\n",
    "    \"two\": 2,\n",
    "    \"three\": 3,\n",
    "    \"four\": 4,\n",
    "    \"five\": 5,\n",
    "    \"six\": 6,\n",
    "    \"seven\": 7,\n",
    "    \"eight\": 8,\n",
    "    \"nine\": 9\n",
    "}\n",
    "\n",
    "number_map_invert = dict((k[::-1], v) for k, v in number_map.items())\n",
    "\n",
    "def day_1_ex1():\n",
    "    totals_arr = []\n",
    "    for line in df.iloc[:, 0]:\n",
    "        _sum = 0\n",
    "        concat = ''\n",
    "        forwards_word_check = ''\n",
    "        forwards = line\n",
    "        # print(f'working on line {line}')\n",
    "        for char in forwards:\n",
    "            forwards_word_check = forwards_word_check + char\n",
    "            try:\n",
    "                char_is_int = int(char)\n",
    "                concat = f'{concat}{char_is_int}'\n",
    "                # print(f'found forwards number! {char_is_int}')\n",
    "                break\n",
    "            except:\n",
    "                pass\n",
    "\n",
    "        backwards_word_check = ''\n",
    "        backwards = forwards[::-1]\n",
    "        for char in backwards:\n",
    "            backwards_word_check = backwards_word_check + char\n",
    "            try:\n",
    "                char_is_int = int(char)\n",
    "                concat = f'{concat}{char_is_int}'\n",
    "                # print(f'found back number! {char_is_int}')\n",
    "                break\n",
    "            except:\n",
    "                pass\n",
    "        _sum = int(concat)\n",
    "        # print(f'sum for {line} is {_sum}')\n",
    "        totals_arr.append(_sum)\n",
    "        # print()\n",
    "    return sum(totals_arr)\n",
    "\n",
    "def day_1_ex2():\n",
    "    totals_arr = []\n",
    "    for line in df.iloc[:, 0]:\n",
    "        _sum = 0\n",
    "        concat = ''\n",
    "        forwards_word_check = ''\n",
    "        forwards = line\n",
    "        # print(f'working on line {line}')\n",
    "        for char in forwards:\n",
    "            forwards_word_check = forwards_word_check + char\n",
    "            num_match = contains_substring(forwards_word_check, list(number_map.keys()))\n",
    "            if num_match:\n",
    "                char_is_int = int(number_map[num_match])\n",
    "                concat = f'{concat}{char_is_int}'\n",
    "                # print(f'found forwards check! {forwards_word_check} ')\n",
    "                break\n",
    "            try:\n",
    "                char_is_int = int(char)\n",
    "                concat = f'{concat}{char_is_int}'\n",
    "                # print(f'found forwards number! {char_is_int}')\n",
    "                break\n",
    "            except:\n",
    "                pass\n",
    "\n",
    "        backwards_word_check = ''\n",
    "        backwards = forwards[::-1]\n",
    "        for char in backwards:\n",
    "            backwards_word_check = backwards_word_check + char\n",
    "            num_match = contains_substring(backwards_word_check, list(number_map_invert.keys()))\n",
    "            if num_match:\n",
    "                char_is_int = int(number_map_invert[num_match])\n",
    "                concat = f'{concat}{char_is_int}'\n",
    "                # print(f'found back check! {backwards_word_check}')\n",
    "                break\n",
    "\n",
    "            try:\n",
    "                char_is_int = int(char)\n",
    "                concat = f'{concat}{char_is_int}'\n",
    "                # print(f'found back number! {char_is_int}')\n",
    "                break\n",
    "            except:\n",
    "                pass\n",
    "        _sum = int(concat)\n",
    "        # print(f'sum for {line} is {_sum}')\n",
    "        totals_arr.append(_sum)\n",
    "        # print()\n",
    "    return sum(totals_arr)"
   ]
  },
  {
   "cell_type": "code",
   "execution_count": 7,
   "id": "2dc4560c-cbee-4c7a-9529-e0fe1ff1e6a4",
   "metadata": {
    "tags": []
   },
   "outputs": [
    {
     "name": "stdout",
     "output_type": "stream",
     "text": [
      "Day 1 Ex: 1 answer = 55386\n"
     ]
    }
   ],
   "source": [
    "print(f'Day 1 Ex: 1 answer = {day_1_ex1()}')"
   ]
  },
  {
   "cell_type": "code",
   "execution_count": 8,
   "id": "6efb47cc-fdec-419e-9f26-dc8774032fb1",
   "metadata": {
    "tags": []
   },
   "outputs": [
    {
     "name": "stdout",
     "output_type": "stream",
     "text": [
      "Day 1 Ex: 2 answer = 54824\n"
     ]
    }
   ],
   "source": [
    "print(f'Day 1 Ex: 2 answer = {day_1_ex2()}')"
   ]
  },
  {
   "cell_type": "markdown",
   "id": "4d67dd19-aed1-4169-9ca7-461a3997dcb3",
   "metadata": {},
   "source": [
    "# Day 2"
   ]
  },
  {
   "cell_type": "markdown",
   "id": "41104d1d-2202-4dff-81cf-0e30b1a8801a",
   "metadata": {},
   "source": [
    "### Ex: 1"
   ]
  },
  {
   "cell_type": "code",
   "execution_count": 9,
   "id": "007cdf89-4971-4d6e-a018-a872fa6a4b7c",
   "metadata": {
    "tags": []
   },
   "outputs": [],
   "source": [
    "color_limits = {\n",
    "    \"red\": 12,\n",
    "    \"green\": 13,\n",
    "    \"blue\": 14,\n",
    "}"
   ]
  },
  {
   "cell_type": "code",
   "execution_count": 10,
   "id": "64623fa6-870d-4c26-938c-2b55cbd65ab2",
   "metadata": {
    "tags": []
   },
   "outputs": [],
   "source": [
    "possible_arr = []\n",
    "# Define a regular expression pattern to match \"Game\" followed by a number and a colon\n",
    "pattern = r'Game \\d+:'\n",
    "\n",
    "def clean_game_text(s):\n",
    "    p = re.compile('Game \\d+:')\n",
    "    return p.sub('', s).strip()\n",
    "\n",
    "# This is one pull from the bag\n",
    "def check_possibility(arr):\n",
    "    for pull_num, row in enumerate(arr):\n",
    "        if row != 'NONE':\n",
    "            iterarion = row.split(',')\n",
    "            for it in iterarion:\n",
    "                num, color = it.strip().split(' ')\n",
    "                if (int(num) > color_limits[color]):\n",
    "                    # print(f'     impossible because we got color {color}: {int(num)} > {color_limits[color]} in pull #{pull_num + 1}')\n",
    "                    return False\n",
    "    return True"
   ]
  },
  {
   "cell_type": "code",
   "execution_count": 11,
   "id": "65b0f67e-8e99-4089-a90a-d0c5f4574e68",
   "metadata": {
    "tags": []
   },
   "outputs": [],
   "source": [
    "possible_ids = []\n",
    "with open(\"./data/day-2-1.txt\") as file:\n",
    "    for game_id, item in enumerate(file):\n",
    "        pulls = clean_game_text(item).split(';')\n",
    "        # print(f'running on game_id {game_id}')\n",
    "        p = check_possibility(pulls)\n",
    "        if p:\n",
    "            possible_ids.append(game_id + 1)\n",
    "# print(possible_ids)"
   ]
  },
  {
   "cell_type": "code",
   "execution_count": 12,
   "id": "d1248a14-1682-4489-8876-e3f2baef3145",
   "metadata": {
    "tags": []
   },
   "outputs": [
    {
     "name": "stdout",
     "output_type": "stream",
     "text": [
      "Day 2 Ex: 1 answer = 2716\n"
     ]
    }
   ],
   "source": [
    "print(f'Day 2 Ex: 1 answer = {sum(possible_ids)}')"
   ]
  },
  {
   "cell_type": "markdown",
   "id": "4568f72e-c5be-4024-8180-393a9669b718",
   "metadata": {},
   "source": [
    "### Ex: 2"
   ]
  },
  {
   "cell_type": "code",
   "execution_count": 13,
   "id": "f422b2e5-e7ba-45d9-92bb-ab2525b61c07",
   "metadata": {
    "tags": []
   },
   "outputs": [],
   "source": [
    "def largest_num_of_colors(arr):\n",
    "    color_tracker = {\n",
    "        \"red\": 0,\n",
    "        \"green\": 0,\n",
    "        \"blue\": 0,\n",
    "    }\n",
    "    for pull_num, row in enumerate(arr):\n",
    "        if row:\n",
    "            iterarion = row.split(',')\n",
    "            for it in iterarion:\n",
    "                num, color = it.strip().split(' ')\n",
    "                if color_tracker[color] < int(num):\n",
    "                    color_tracker[color] = int(num)\n",
    "    least_possible = list(color_tracker.values())\n",
    "    p = 1\n",
    "    for v in least_possible:\n",
    "        p = p * v\n",
    "    return p"
   ]
  },
  {
   "cell_type": "code",
   "execution_count": 14,
   "id": "904a82ff-381e-4f01-b765-2607ba6a85b1",
   "metadata": {
    "tags": []
   },
   "outputs": [],
   "source": [
    "p_sum = []\n",
    "with open(\"./data/day-2-1.txt\") as file:\n",
    "    for game_id, item in enumerate(file):\n",
    "        pulls = clean_game_text(item).split(';')\n",
    "        # print(f'running on game_id {game_id}')\n",
    "        p = largest_num_of_colors(pulls)\n",
    "        p_sum.append(p)"
   ]
  },
  {
   "cell_type": "code",
   "execution_count": 15,
   "id": "d3f1bdc4-e7f6-450c-b5d1-33e59ab474af",
   "metadata": {
    "tags": []
   },
   "outputs": [
    {
     "name": "stdout",
     "output_type": "stream",
     "text": [
      "Day 2 Ex: 2 answer = 72227\n"
     ]
    }
   ],
   "source": [
    "print(f'Day 2 Ex: 2 answer = {sum(p_sum)}')"
   ]
  },
  {
   "cell_type": "markdown",
   "id": "0e62c51d-1a76-4ed1-b903-0b549227dd4c",
   "metadata": {},
   "source": [
    "# Day 3"
   ]
  },
  {
   "cell_type": "markdown",
   "id": "73f691b6-ce67-4925-9c57-86bfc7e32639",
   "metadata": {},
   "source": [
    "### Ex: 1"
   ]
  },
  {
   "cell_type": "code",
   "execution_count": 16,
   "id": "1e7856ee-a157-4012-87bd-3cfa5abfdeeb",
   "metadata": {
    "tags": []
   },
   "outputs": [],
   "source": [
    "two_d_arr = []\n",
    "with open(\"./data/day-3-1.txt\") as file:\n",
    "    for row in file:\n",
    "        row_arr = []\n",
    "        for char in row:\n",
    "            if char != '\\n':\n",
    "                row_arr.append(char)\n",
    "        two_d_arr.append(row_arr)"
   ]
  },
  {
   "cell_type": "code",
   "execution_count": 17,
   "id": "6fbc6103-3a32-4794-92eb-ace93173a276",
   "metadata": {
    "tags": []
   },
   "outputs": [],
   "source": [
    "# two_d_arr"
   ]
  },
  {
   "cell_type": "code",
   "execution_count": 18,
   "id": "3f7eedfc-7e74-42af-a285-4f281d1e911c",
   "metadata": {
    "tags": []
   },
   "outputs": [],
   "source": [
    "def there_is_number(r, c):\n",
    "    try:\n",
    "        num = int(two_d_arr[r][c])\n",
    "        return True\n",
    "    except:\n",
    "        return None\n",
    "\n",
    "def delete_point_and_siblings(r,c):\n",
    "    points = point_and_siblings_map[f'{r},{c}']\n",
    "    points_split = points.split('::')\n",
    "    for p in points_split:\n",
    "        r, c = p.split(',')\n",
    "        two_d_arr[int(r)][int(c)] = '.'"
   ]
  },
  {
   "cell_type": "code",
   "execution_count": 19,
   "id": "aa1de8bb-225a-453d-9ad4-ce1fa010fcfb",
   "metadata": {
    "tags": []
   },
   "outputs": [],
   "source": [
    "point_to_number_map = {}\n",
    "point_and_siblings_map = {}\n",
    "for r in range(len(two_d_arr)):\n",
    "    num_concat = ''\n",
    "    points = []\n",
    "    for c in range(len(two_d_arr[r])):\n",
    "        if there_is_number(r, c):\n",
    "            num_concat = num_concat + two_d_arr[r][c]\n",
    "            points.append(f'{r},{c}')\n",
    "        else:\n",
    "            if len(points) and num_concat != '':\n",
    "                for p in points:\n",
    "                    point_to_number_map[p] = num_concat\n",
    "                    point_and_siblings_map[p] = '::'.join(points)\n",
    "                num_concat = ''\n",
    "                points = []\n",
    "    # check if we ended with a number\n",
    "    if len(points) and num_concat != '':\n",
    "        for p in points:\n",
    "            point_to_number_map[p] = num_concat\n",
    "            point_and_siblings_map[p] = '::'.join(points)"
   ]
  },
  {
   "cell_type": "code",
   "execution_count": 20,
   "id": "d880a366-03a3-4e91-8662-753a16799ddf",
   "metadata": {
    "tags": []
   },
   "outputs": [],
   "source": [
    "# point_to_number_map"
   ]
  },
  {
   "cell_type": "code",
   "execution_count": 21,
   "id": "d69edf06-c8c5-447c-9c81-6c3e89ecf0dc",
   "metadata": {
    "tags": []
   },
   "outputs": [],
   "source": [
    "# point_and_siblings_map"
   ]
  },
  {
   "cell_type": "code",
   "execution_count": 22,
   "id": "6790088b-335f-42bd-a498-73a5dde11bef",
   "metadata": {
    "tags": []
   },
   "outputs": [],
   "source": [
    "_day_3_sum = []\n",
    "for r in range(len(two_d_arr)):\n",
    "    for c in range(len(two_d_arr[r])):\n",
    "        if not there_is_number(r, c) and two_d_arr[r][c] != '.':\n",
    "            # print(f'There is a {two_d_arr[r][c]} at ({r}, {c})')\n",
    "            \n",
    "            # look north\n",
    "            if r != 0:\n",
    "                if there_is_number(r-1, c):\n",
    "                    if point_to_number_map.get(f'{r-1},{c}'):\n",
    "                        _day_3_sum.append(int(point_to_number_map.get(f'{r-1},{c}')))\n",
    "                        delete_point_and_siblings(r-1, c)\n",
    "                # look north east\n",
    "                if c != len(two_d_arr[r]) - 1:\n",
    "                    if there_is_number(r-1, c+1):\n",
    "                        if point_to_number_map.get(f'{r-1},{c+1}'):\n",
    "                            _day_3_sum.append(int(point_to_number_map.get(f'{r-1},{c+1}')))\n",
    "                            delete_point_and_siblings(r-1, c+1)\n",
    "                # look north west\n",
    "                if c != 0:\n",
    "                    if there_is_number(r-1, c-1):\n",
    "                        if point_to_number_map.get(f'{r-1},{c-1}'):\n",
    "                            _day_3_sum.append(int(point_to_number_map.get(f'{r-1},{c-1}')))\n",
    "                            delete_point_and_siblings(r-1, c-1)\n",
    "                        \n",
    "            # look east\n",
    "            if c != len(two_d_arr[r]) - 1:\n",
    "                if there_is_number(r, c+1):\n",
    "                    if point_to_number_map.get(f'{r},{c+1}'):\n",
    "                        _day_3_sum.append(int(point_to_number_map.get(f'{r},{c+1}')))\n",
    "                        delete_point_and_siblings(r, c+1)\n",
    "                    \n",
    "            # look south\n",
    "            if r != len(two_d_arr) - 1:\n",
    "                if there_is_number(r+1, c):\n",
    "                    if point_to_number_map.get(f'{r+1},{c}'):\n",
    "                        _day_3_sum.append(int(point_to_number_map.get(f'{r+1},{c}')))\n",
    "                        delete_point_and_siblings(r+1, c)\n",
    "                # look south east\n",
    "                if c != len(two_d_arr[r]) - 1:\n",
    "                    if there_is_number(r+1, c+1):\n",
    "                        if point_to_number_map.get(f'{r+1},{c+1}'):\n",
    "                            _day_3_sum.append(int(point_to_number_map.get(f'{r+1},{c+1}')))\n",
    "                            delete_point_and_siblings(r+1, c+1)\n",
    "                # look south west\n",
    "                if c != 0:\n",
    "                    if there_is_number(r+1, c-1):\n",
    "                        if point_to_number_map.get(f'{r+1},{c-1}'):\n",
    "                            _day_3_sum.append(int(point_to_number_map.get(f'{r+1},{c-1}')))\n",
    "                            delete_point_and_siblings(r+1, c-1)\n",
    "                    \n",
    "            # look west\n",
    "            if c != 0:\n",
    "                if there_is_number(r, c-1):\n",
    "                    if point_to_number_map.get(f'{r},{c-1}'):\n",
    "                        _day_3_sum.append(int(point_to_number_map.get(f'{r},{c-1}')))\n",
    "                        delete_point_and_siblings(r, c-1)"
   ]
  },
  {
   "cell_type": "code",
   "execution_count": 23,
   "id": "f330e06b-c20b-48e8-9b6c-f0060ef524eb",
   "metadata": {
    "tags": []
   },
   "outputs": [
    {
     "name": "stdout",
     "output_type": "stream",
     "text": [
      "Day 3 Ex: 1 answer = 531932\n"
     ]
    }
   ],
   "source": [
    "print(f'Day 3 Ex: 1 answer = {sum(_day_3_sum)}')"
   ]
  },
  {
   "cell_type": "code",
   "execution_count": 24,
   "id": "44b24316-e571-467b-8acf-0947aef1f25e",
   "metadata": {
    "tags": []
   },
   "outputs": [],
   "source": [
    "# with open('./data/solution-3-1.txt', 'w') as f:\n",
    "#     for r in two_d_arr:\n",
    "#         row_val = ''.join(r)\n",
    "#         f.write(f\"{row_val}\\n\")"
   ]
  },
  {
   "cell_type": "code",
   "execution_count": 25,
   "id": "28bf4024-e252-483f-8138-b27f5fce74f1",
   "metadata": {
    "tags": []
   },
   "outputs": [],
   "source": [
    "# two_d_arr"
   ]
  },
  {
   "cell_type": "markdown",
   "id": "534c64aa-50c5-4f9c-af12-b3306b13fafa",
   "metadata": {},
   "source": [
    "### Ex 2"
   ]
  },
  {
   "cell_type": "code",
   "execution_count": 26,
   "id": "b39a2a13-e4a5-4720-9185-c4783aaade5b",
   "metadata": {
    "tags": []
   },
   "outputs": [],
   "source": [
    "two_d_arr = []\n",
    "with open(\"./data/day-3-2.txt\") as file:\n",
    "    for row in file:\n",
    "        row_arr = []\n",
    "        for char in row:\n",
    "            if char != '\\n':\n",
    "                row_arr.append(char)\n",
    "        two_d_arr.append(row_arr)"
   ]
  },
  {
   "cell_type": "code",
   "execution_count": 27,
   "id": "e8ba2d74-0e59-4407-9989-d10a49f34100",
   "metadata": {
    "tags": []
   },
   "outputs": [],
   "source": [
    "_day_3_sum = []\n",
    "for r in range(len(two_d_arr)):\n",
    "    for c in range(len(two_d_arr[r])):\n",
    "        symbol_adj_vals = []\n",
    "        if not there_is_number(r, c) and two_d_arr[r][c] != '.':\n",
    "            # look north\n",
    "            if r != 0:\n",
    "                if there_is_number(r-1, c):\n",
    "                    if point_to_number_map.get(f'{r-1},{c}'):\n",
    "                        symbol_adj_vals.append(int(point_to_number_map.get(f'{r-1},{c}')))\n",
    "                        delete_point_and_siblings(r-1, c)\n",
    "                # look north east\n",
    "                if c != len(two_d_arr[r]) - 1:\n",
    "                    if there_is_number(r-1, c+1):\n",
    "                        if point_to_number_map.get(f'{r-1},{c+1}'):\n",
    "                            symbol_adj_vals.append(int(point_to_number_map.get(f'{r-1},{c+1}')))\n",
    "                            delete_point_and_siblings(r-1, c+1)\n",
    "                # look north west\n",
    "                if c != 0:\n",
    "                    if there_is_number(r-1, c-1):\n",
    "                        if point_to_number_map.get(f'{r-1},{c-1}'):\n",
    "                            symbol_adj_vals.append(int(point_to_number_map.get(f'{r-1},{c-1}')))\n",
    "                            delete_point_and_siblings(r-1, c-1)\n",
    "                        \n",
    "            # look east\n",
    "            if c != len(two_d_arr[r]) - 1:\n",
    "                if there_is_number(r, c+1):\n",
    "                    if point_to_number_map.get(f'{r},{c+1}'):\n",
    "                        symbol_adj_vals.append(int(point_to_number_map.get(f'{r},{c+1}')))\n",
    "                        delete_point_and_siblings(r, c+1)\n",
    "                    \n",
    "            # look south\n",
    "            if r != len(two_d_arr) - 1:\n",
    "                if there_is_number(r+1, c):\n",
    "                    if point_to_number_map.get(f'{r+1},{c}'):\n",
    "                        symbol_adj_vals.append(int(point_to_number_map.get(f'{r+1},{c}')))\n",
    "                        delete_point_and_siblings(r+1, c)\n",
    "                # look south east\n",
    "                if c != len(two_d_arr[r]) - 1:\n",
    "                    if there_is_number(r+1, c+1):\n",
    "                        if point_to_number_map.get(f'{r+1},{c+1}'):\n",
    "                            symbol_adj_vals.append(int(point_to_number_map.get(f'{r+1},{c+1}')))\n",
    "                            delete_point_and_siblings(r+1, c+1)\n",
    "                # look south west\n",
    "                if c != 0:\n",
    "                    if there_is_number(r+1, c-1):\n",
    "                        if point_to_number_map.get(f'{r+1},{c-1}'):\n",
    "                            symbol_adj_vals.append(int(point_to_number_map.get(f'{r+1},{c-1}')))\n",
    "                            delete_point_and_siblings(r+1, c-1)\n",
    "                    \n",
    "            # look west\n",
    "            if c != 0:\n",
    "                if there_is_number(r, c-1):\n",
    "                    if point_to_number_map.get(f'{r},{c-1}'):\n",
    "                        symbol_adj_vals.append(int(point_to_number_map.get(f'{r},{c-1}')))\n",
    "                        delete_point_and_siblings(r, c-1)\n",
    "                        \n",
    "            _day_3_sum.append(symbol_adj_vals)"
   ]
  },
  {
   "cell_type": "code",
   "execution_count": 28,
   "id": "e2e75652-258f-4c46-a5c4-649878cbe931",
   "metadata": {
    "tags": []
   },
   "outputs": [],
   "source": [
    "# _day_3_sum"
   ]
  },
  {
   "cell_type": "code",
   "execution_count": 29,
   "id": "c133d550-4686-4876-a56d-77edf5c5232e",
   "metadata": {
    "tags": []
   },
   "outputs": [],
   "source": [
    "_sum = []\n",
    "for v in _day_3_sum:\n",
    "    if len(v) == 2:\n",
    "        f, s = v\n",
    "        _sum.append(int(f)* int(s))"
   ]
  },
  {
   "cell_type": "code",
   "execution_count": 30,
   "id": "319a23f3-ce2d-4601-be0e-36ee5c5fef24",
   "metadata": {
    "tags": []
   },
   "outputs": [
    {
     "name": "stdout",
     "output_type": "stream",
     "text": [
      "Day 3 Ex: 2 answer = 73646890\n"
     ]
    }
   ],
   "source": [
    "print(f'Day 3 Ex: 2 answer = {sum(_sum)}')"
   ]
  }
 ],
 "metadata": {
  "kernelspec": {
   "display_name": "Python 3 (ipykernel)",
   "language": "python",
   "name": "python3"
  },
  "language_info": {
   "codemirror_mode": {
    "name": "ipython",
    "version": 3
   },
   "file_extension": ".py",
   "mimetype": "text/x-python",
   "name": "python",
   "nbconvert_exporter": "python",
   "pygments_lexer": "ipython3",
   "version": "3.9.18"
  }
 },
 "nbformat": 4,
 "nbformat_minor": 5
}
